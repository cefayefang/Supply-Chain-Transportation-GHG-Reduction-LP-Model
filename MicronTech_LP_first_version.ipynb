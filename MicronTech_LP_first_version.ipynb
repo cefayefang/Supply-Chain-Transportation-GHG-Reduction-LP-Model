{
 "cells": [
  {
   "cell_type": "markdown",
   "metadata": {
    "id": "TFsyqf3RuLrF"
   },
   "source": [
    "# subscripts\n",
    "set T;  # Time periods\n",
    "\n",
    "set P;  # Products\n",
    "\n",
    "set P'; # Finished products that can be sold\n",
    "\n",
    "set I;  # Locations that produce products\n",
    "\n",
    "set J;  # Customer regions\n",
    "\n",
    "set K;  # Transportation modes\n",
    "\n",
    "set C;  # Set of customer regions\n",
    "\n",
    "set F;  # Set of locations that produce finished products\n",
    "\n",
    "# parameters\n",
    "param r{P,T};       # Revenue per unit of product in period\n",
    "\n",
    "param c{I,J,K,T};   # Transportation cost\n",
    "\n",
    "param v{I,P,T};     # Incremental processing cost\n",
    "\n",
    "param h{P};         # Inventory holding cost\n",
    "\n",
    "param a{I,P};       # Production capacity (time)\n",
    "\n",
    "param alpha{P',P};  # Units of product required\n",
    "\n",
    "param Production_Capacity{I,T};  # Production capacity\n",
    "\n",
    "param d{J,P,T};     # Demand of product by customer region in period\n",
    "\n",
    "# decision variables\n",
    "var x{I,J,K,P,T} >= 0;  # Product transported\n",
    "\n",
    "var y{I,P,T} >= 0;      # Product produced\n",
    "\n",
    "var I{I,P,T} >= 0;      # Inventory\n",
    "\n",
    "# Objective function\n",
    "maximize Total_Profit:\n",
    "  sum{t in T, p in P} r[p,t] * (sum{i in I, j in J, k in K} x[i,j,k,p,t])\n",
    "  - sum{t in T, i in I, j in J, k in K, p in P} c[i,j,k,t] * x[i,j,k,p,t]\n",
    "  - sum{t in T, i in I, p in P} v[i,p,t] * y[i,p,t]\n",
    "  - sum{t in T, i in I, p in P} h[p] * I[i,p,t];"
   ]
  },
  {
   "cell_type": "code",
   "execution_count": 4,
   "metadata": {
    "colab": {
     "base_uri": "https://localhost:8080/",
     "height": 0
    },
    "id": "y-yC3O3SWf00",
    "outputId": "b89e8d30-5ea4-4bee-b384-50cfec9de1f8"
   },
   "outputs": [],
   "source": [
    "import pandas as pd\n",
    "from  scipy.optimize import linprog as lp\n",
    "import numpy as np\n",
    "#from google.colab import drive\n",
    "#drive.mount('/content/drive')"
   ]
  },
  {
   "cell_type": "code",
   "execution_count": 9,
   "metadata": {},
   "outputs": [
    {
     "name": "stdout",
     "output_type": "stream",
     "text": [
      "Collecting openpyxl\n",
      "  Using cached openpyxl-3.1.2-py2.py3-none-any.whl (249 kB)\n",
      "Collecting et-xmlfile\n",
      "  Using cached et_xmlfile-1.1.0-py3-none-any.whl (4.7 kB)\n",
      "Installing collected packages: et-xmlfile, openpyxl\n",
      "Successfully installed et-xmlfile-1.1.0 openpyxl-3.1.2\n"
     ]
    }
   ],
   "source": [
    "!pip install openpyxl"
   ]
  },
  {
   "cell_type": "code",
   "execution_count": 10,
   "metadata": {
    "colab": {
     "base_uri": "https://localhost:8080/",
     "height": 206
    },
    "id": "XZfgprZ6Xe_X",
    "outputId": "24d0cca6-f4d8-4334-c3f0-6da5d5488d98"
   },
   "outputs": [
    {
     "data": {
      "text/html": [
       "<div>\n",
       "<style scoped>\n",
       "    .dataframe tbody tr th:only-of-type {\n",
       "        vertical-align: middle;\n",
       "    }\n",
       "\n",
       "    .dataframe tbody tr th {\n",
       "        vertical-align: top;\n",
       "    }\n",
       "\n",
       "    .dataframe thead th {\n",
       "        text-align: right;\n",
       "    }\n",
       "</style>\n",
       "<table border=\"1\" class=\"dataframe\">\n",
       "  <thead>\n",
       "    <tr style=\"text-align: right;\">\n",
       "      <th></th>\n",
       "      <th>customer_region</th>\n",
       "      <th>product</th>\n",
       "      <th>demand</th>\n",
       "      <th>time_t</th>\n",
       "    </tr>\n",
       "  </thead>\n",
       "  <tbody>\n",
       "    <tr>\n",
       "      <th>0</th>\n",
       "      <td>C1</td>\n",
       "      <td>package_1</td>\n",
       "      <td>30</td>\n",
       "      <td>1</td>\n",
       "    </tr>\n",
       "    <tr>\n",
       "      <th>1</th>\n",
       "      <td>C1</td>\n",
       "      <td>package_2</td>\n",
       "      <td>50</td>\n",
       "      <td>1</td>\n",
       "    </tr>\n",
       "    <tr>\n",
       "      <th>2</th>\n",
       "      <td>C2</td>\n",
       "      <td>module_1</td>\n",
       "      <td>20</td>\n",
       "      <td>1</td>\n",
       "    </tr>\n",
       "    <tr>\n",
       "      <th>3</th>\n",
       "      <td>C2</td>\n",
       "      <td>package_2</td>\n",
       "      <td>10</td>\n",
       "      <td>1</td>\n",
       "    </tr>\n",
       "    <tr>\n",
       "      <th>4</th>\n",
       "      <td>C2</td>\n",
       "      <td>module_2</td>\n",
       "      <td>30</td>\n",
       "      <td>1</td>\n",
       "    </tr>\n",
       "  </tbody>\n",
       "</table>\n",
       "</div>"
      ],
      "text/plain": [
       "  customer_region    product  demand  time_t\n",
       "0              C1  package_1      30       1\n",
       "1              C1  package_2      50       1\n",
       "2              C2   module_1      20       1\n",
       "3              C2  package_2      10       1\n",
       "4              C2   module_2      30       1"
      ]
     },
     "execution_count": 10,
     "metadata": {},
     "output_type": "execute_result"
    }
   ],
   "source": [
    "\n",
    "\"\"\"\n",
    "xls = pd.ExcelFile('/content/Datasets.xlsx')\n",
    "Transportation = pd.read_excel(xls, 'Transportation')\n",
    "Product = pd.read_excel(xls, 'Products')\n",
    "Production_location = pd.read_excel(xls, 'production_location')\n",
    "demand = pd.read_excel(xls, 'customer_demand')\n",
    "\"\"\"\n",
    "# Friendly reminder from Geoffrey\n",
    "# Make sure you have the right path to acccess the files\n",
    "# I made shortcuts to link the shared folder \"IEOR 180 Team 6\" to My drive and you can do the same to use the file path here\n",
    "\n",
    "file_path = \"Datasets.xlsx\"\n",
    "Transportation = pd.read_excel(file_path, sheet_name='Transportation')\n",
    "Product = pd.read_excel(file_path, sheet_name='Products')\n",
    "Production_location = pd.read_excel(file_path, sheet_name='production_location')\n",
    "demand = pd.read_excel(file_path, sheet_name='customer_demand')\n",
    "\n",
    "demand.head()"
   ]
  },
  {
   "cell_type": "code",
   "execution_count": 11,
   "metadata": {
    "id": "EQoFKXGcYu_d"
   },
   "outputs": [],
   "source": [
    "revenue_falling_rate = 0.1\n",
    "holding_rate= 0.125 #annual holding rate is 50%, so per quater is 12.5%\n",
    "total_time = 2"
   ]
  },
  {
   "cell_type": "code",
   "execution_count": 14,
   "metadata": {
    "colab": {
     "base_uri": "https://localhost:8080/",
     "height": 0
    },
    "id": "_E2fp1jrXuqx",
    "outputId": "f12d708a-73b6-4ce2-d4d9-338448b604ff"
   },
   "outputs": [],
   "source": [
    "Product_initial = Product.loc[Product['Is_final_good'].notnull(), :].copy()\n",
    "Product_initial[\"inventorycost_h\"]=Product[\"revenue_r\"]*holding_rate"
   ]
  },
  {
   "cell_type": "code",
   "execution_count": 15,
   "metadata": {
    "id": "5ImQUwy3_3UL"
   },
   "outputs": [],
   "source": [
    "###Product detail\n",
    "product_weight = dict(zip(Product_initial['Product_p'], Product_initial['weight_w']))\n",
    "product_revenue = dict(zip(Product_initial['Product_p'], Product_initial['revenue_r']))\n",
    "product_alpha = dict(zip(Product_initial['Product_p'], Product_initial[\"alpha\"]))\n",
    "product_a = dict(zip(Product_initial['Product_p'], Product_initial[\"product_time_a\"]))\n",
    "product_cost= dict(zip(Product_initial['Product_p'], Product_initial['incrementalcost_v'])) ##assume the cost does not change\n"
   ]
  },
  {
   "cell_type": "code",
   "execution_count": 31,
   "metadata": {
    "id": "RcHv_0DBLkno"
   },
   "outputs": [
    {
     "data": {
      "text/plain": [
       "{('fab_1', 1): 9.0,\n",
       " ('fab_2', 1): 18.0,\n",
       " ('package_1', 1): 27.0,\n",
       " ('package_2', 1): 27.0,\n",
       " ('module_1', 1): 36.0,\n",
       " ('module_2', 1): 31.5,\n",
       " ('fab_1', 2): 8.100000000000001,\n",
       " ('fab_2', 2): 16.200000000000003,\n",
       " ('package_1', 2): 24.3,\n",
       " ('package_2', 2): 24.3,\n",
       " ('module_1', 2): 32.400000000000006,\n",
       " ('module_2', 2): 28.35}"
      ]
     },
     "execution_count": 31,
     "metadata": {},
     "output_type": "execute_result"
    }
   ],
   "source": [
    "## assume the price decreases by revenue_falling_rate\n",
    "revenue_over_t={}\n",
    "for t in range(1, total_time+1):\n",
    "  for key, revenue in product_revenue.items():\n",
    "    new_key=(key, t)\n",
    "    rt=revenue*(1-revenue_falling_rate)**t\n",
    "    revenue_over_t[new_key]=rt\n",
    "\n",
    "\n",
    "#### revenue_over_t, p,t, is the price of each product at time t\n",
    "revenue_over_t"
   ]
  },
  {
   "cell_type": "code",
   "execution_count": 33,
   "metadata": {
    "colab": {
     "base_uri": "https://localhost:8080/",
     "height": 0
    },
    "id": "dfZKwYaBhz3X",
    "outputId": "d220db44-ed63-4c2a-f6ec-5b335fc4444f"
   },
   "outputs": [
    {
     "data": {
      "text/plain": [
       "{('F1', 'P1', 'Flight', 1.0, 'fab_1'): 0.05,\n",
       " ('F1', 'P1', 'Flight', 1.0, 'fab_2'): 0.05,\n",
       " ('F1', 'P2', 'Flight', 1.0, 'fab_1'): 0.03,\n",
       " ('F1', 'P2', 'Flight', 1.0, 'fab_2'): 0.03,\n",
       " ('F2', 'P1', 'Truck', 1.0, 'fab_1'): 0.005,\n",
       " ('F2', 'P1', 'Truck', 1.0, 'fab_2'): 0.005,\n",
       " ('F2', 'P2', 'Flight', 1.0, 'fab_1'): 0.03,\n",
       " ('F2', 'P2', 'Flight', 1.0, 'fab_2'): 0.03,\n",
       " ('P1', 'M1', 'Flight', 1.0, 'package_1'): 0.04,\n",
       " ('P1', 'M1', 'Flight', 1.0, 'package_2'): 0.04,\n",
       " ('P1', 'M2', 'Flight', 1.0, 'package_1'): 0.1,\n",
       " ('P1', 'M2', 'Flight', 1.0, 'package_2'): 0.1,\n",
       " ('P2', 'M1', 'Flight', 1.0, 'package_1'): 0.12,\n",
       " ('P2', 'M1', 'Flight', 1.0, 'package_2'): 0.12,\n",
       " ('P2', 'M2', 'Truck', 1.0, 'package_1'): 0.016,\n",
       " ('P2', 'M2', 'Truck', 1.0, 'package_2'): 0.016,\n",
       " ('P1', 'C1', 'Flight', 1.0, 'package_1'): 0.16,\n",
       " ('P1', 'C1', 'Flight', 1.0, 'package_2'): 0.16,\n",
       " ('P1', 'C2', 'Flight', 1.0, 'package_1'): 0.14,\n",
       " ('P1', 'C2', 'Flight', 1.0, 'package_2'): 0.14,\n",
       " ('P2', 'C1', 'Flight', 1.0, 'package_1'): 0.08,\n",
       " ('P2', 'C1', 'Flight', 1.0, 'package_2'): 0.08,\n",
       " ('P2', 'C2', 'Flight', 1.0, 'package_1'): 0.06,\n",
       " ('P2', 'C2', 'Flight', 1.0, 'package_2'): 0.06,\n",
       " ('M1', 'C1', 'Flight', 1.0, 'module_1'): 0.06,\n",
       " ('M1', 'C1', 'Flight', 1.0, 'module_2'): 0.06,\n",
       " ('M1', 'C2', 'Flight', 1.0, 'module_1'): 0.03,\n",
       " ('M1', 'C2', 'Flight', 1.0, 'module_2'): 0.03,\n",
       " ('M2', 'C1', 'Flight', 1.0, 'module_1'): 0.15,\n",
       " ('M2', 'C1', 'Flight', 1.0, 'module_2'): 0.15,\n",
       " ('M2', 'C2', 'Flight', 1.0, 'module_1'): 0.06,\n",
       " ('M2', 'C2', 'Flight', 1.0, 'module_2'): 0.06,\n",
       " ('F1', 'P1', 'Flight', 2.0, 'fab_1'): 0.05,\n",
       " ('F1', 'P1', 'Flight', 2.0, 'fab_2'): 0.05,\n",
       " ('F1', 'P2', 'Flight', 2.0, 'fab_1'): 0.03,\n",
       " ('F1', 'P2', 'Flight', 2.0, 'fab_2'): 0.03,\n",
       " ('F2', 'P1', 'Truck', 2.0, 'fab_1'): 0.005,\n",
       " ('F2', 'P1', 'Truck', 2.0, 'fab_2'): 0.005,\n",
       " ('F2', 'P2', 'Flight', 2.0, 'fab_1'): 0.03,\n",
       " ('F2', 'P2', 'Flight', 2.0, 'fab_2'): 0.03,\n",
       " ('P1', 'M1', 'Flight', 2.0, 'package_1'): 0.04,\n",
       " ('P1', 'M1', 'Flight', 2.0, 'package_2'): 0.04,\n",
       " ('P1', 'M2', 'Flight', 2.0, 'package_1'): 0.1,\n",
       " ('P1', 'M2', 'Flight', 2.0, 'package_2'): 0.1,\n",
       " ('P2', 'M1', 'Flight', 2.0, 'package_1'): 0.12,\n",
       " ('P2', 'M1', 'Flight', 2.0, 'package_2'): 0.12,\n",
       " ('P2', 'M2', 'Truck', 2.0, 'package_1'): 0.016,\n",
       " ('P2', 'M2', 'Truck', 2.0, 'package_2'): 0.016,\n",
       " ('P1', 'C1', 'Flight', 2.0, 'package_1'): 0.16,\n",
       " ('P1', 'C1', 'Flight', 2.0, 'package_2'): 0.16,\n",
       " ('P1', 'C2', 'Flight', 2.0, 'package_1'): 0.14,\n",
       " ('P1', 'C2', 'Flight', 2.0, 'package_2'): 0.14,\n",
       " ('P2', 'C1', 'Flight', 2.0, 'package_1'): 0.08,\n",
       " ('P2', 'C1', 'Flight', 2.0, 'package_2'): 0.08,\n",
       " ('P2', 'C2', 'Flight', 2.0, 'package_1'): 0.06,\n",
       " ('P2', 'C2', 'Flight', 2.0, 'package_2'): 0.06,\n",
       " ('M1', 'C1', 'Flight', 2.0, 'module_1'): 0.06,\n",
       " ('M1', 'C1', 'Flight', 2.0, 'module_2'): 0.06,\n",
       " ('M1', 'C2', 'Flight', 2.0, 'module_1'): 0.03,\n",
       " ('M1', 'C2', 'Flight', 2.0, 'module_2'): 0.03,\n",
       " ('M2', 'C1', 'Flight', 2.0, 'module_1'): 0.15,\n",
       " ('M2', 'C1', 'Flight', 2.0, 'module_2'): 0.15,\n",
       " ('M2', 'C2', 'Flight', 2.0, 'module_1'): 0.06,\n",
       " ('M2', 'C2', 'Flight', 2.0, 'module_2'): 0.06}"
      ]
     },
     "execution_count": 33,
     "metadata": {},
     "output_type": "execute_result"
    }
   ],
   "source": [
    "Transportation=Transportation.merge(Production_location, left_on=['Location_i', 'Time_t'], right_on=['Location_i', 'time_t'])\n",
    "data_tuples = list(Transportation.itertuples(index=False, name=None))\n",
    "transport_goods={(*t[:4],): t[8] for t in data_tuples}\n",
    "costs_weight = {(*t[:4],): t[5] for t in data_tuples}\n",
    "ghgs_weight = {(*t[:4],): t[4] for t in data_tuples}\n",
    "\n",
    "def weight_to_product(weight_data, product_weight=product_weight):\n",
    "  # New dictionary for cost per product\n",
    "  per_product = {}\n",
    "\n",
    "  # Iterate through the cost_per_weight dictionary and multiply by product weight\n",
    "  for key, cost in weight_data.items():\n",
    "      # Extract the product name from your logic or data structure; assuming it's 'product_1' for all in this example\n",
    "      product_name = transport_goods[key].split(', ')\n",
    "      for i in product_name:\n",
    "          #if i in product_weight:  # Check if the product name exists in the product_weight dictionary\n",
    "          new_key = key + (i,)  # Create a new key for the cost_per_product dictionary\n",
    "          weight = product_weight[i]  # Get the weight of the product\n",
    "          per_product[new_key] = cost * weight  # Calculate cost per product and assign to the new dictionary\n",
    "  return per_product\n",
    "\n",
    "\n",
    "####Transportation Cost ijktp dictionary\n",
    "cost_per_product=weight_to_product(costs_weight, product_weight)\n",
    "####Transportation GHG Emission ijktp dictionary\n",
    "ghgs_per_product=weight_to_product(ghgs_weight, product_weight)\n",
    "ghgs_per_product"
   ]
  },
  {
   "cell_type": "code",
   "execution_count": 18,
   "metadata": {
    "id": "YAi2Gt_wBq-g"
   },
   "outputs": [],
   "source": [
    "Production_location\n",
    "data_tuples = list(Production_location.itertuples(index=False, name=None))\n",
    "production_capacity_it={(*t[0: 2],): t[2] for t in data_tuples}\n",
    "location_processtime_coe_itp={(t[0], t[1], fab.strip()): t[5] for t in data_tuples for fab in t[3].split(',')}\n",
    "location_incrementalcost_coe_itp={(t[0], t[1], fab.strip()): t[4] for t in data_tuples for fab in t[3].split(',')}\n"
   ]
  },
  {
   "cell_type": "code",
   "execution_count": 19,
   "metadata": {
    "id": "Fwkn8QEkag5O"
   },
   "outputs": [],
   "source": [
    "### Varibale cost for each product at each location at time t\n",
    "incrementalcost_itp={(i, t, p):\n",
    "     product_cost[p]*location_incrementalcost_coe_itp[i, t, p] for i, t, p in  location_incrementalcost_coe_itp.keys()}\n",
    "### Processing time dictionary for each product at each location at time t\n",
    "processtime_itp={(i, t, p):\n",
    "     product_a[p]*location_processtime_coe_itp[i, t, p] for i, t, p in  location_processtime_coe_itp.keys()}"
   ]
  },
  {
   "cell_type": "markdown",
   "metadata": {},
   "source": [
    "### Two useful lists to track the value"
   ]
  },
  {
   "cell_type": "code",
   "execution_count": 20,
   "metadata": {
    "id": "W8CjqrQZYgFe"
   },
   "outputs": [],
   "source": [
    "ijktp_list=[i for i in cost_per_product.keys()]\n",
    "itp_list =[i for i in location_incrementalcost_coe_itp.keys()]"
   ]
  },
  {
   "cell_type": "markdown",
   "metadata": {},
   "source": [
    "### Usefull data dictionary:"
   ]
  },
  {
   "cell_type": "markdown",
   "metadata": {},
   "source": [
    "#### r_pt the price for each product at time t\n",
    "revenue_over_t\n",
    "#### c_ijktp the transportation cost\n",
    "cost_per_product \n",
    "#### g_ijktp the ghg emission cost\n",
    "ghgs_per_product \n",
    "#### v_itp the varibale cost for one-unit product p at location i at time t\n",
    "incrementalcost_itp \n",
    "#### a_itp the processing time for one-unit product p at location i at time t\n",
    "processtime_itp \n",
    "#### product_alpha represents how many input products required to produce on product p\n",
    "product_alpha "
   ]
  },
  {
   "cell_type": "markdown",
   "metadata": {},
   "source": [
    "### Decision Varaible"
   ]
  },
  {
   "cell_type": "code",
   "execution_count": 21,
   "metadata": {
    "colab": {
     "base_uri": "https://localhost:8080/",
     "height": 0
    },
    "id": "7BYzu70YfNOO",
    "outputId": "4c60518f-8163-4b70-dfa9-3e2fed2b5649"
   },
   "outputs": [
    {
     "name": "stdout",
     "output_type": "stream",
     "text": [
      "Collecting pulp\n",
      "  Downloading PuLP-2.8.0-py3-none-any.whl (17.7 MB)\n",
      "\u001b[2K     \u001b[90m━━━━━━━━━━━━━━━━━━━━━━━━━━━━━━━━━━━━━━━━\u001b[0m \u001b[32m17.7/17.7 MB\u001b[0m \u001b[31m29.5 MB/s\u001b[0m eta \u001b[36m0:00:00\u001b[0m00:01\u001b[0m00:01\u001b[0m\n",
      "\u001b[?25hInstalling collected packages: pulp\n",
      "Successfully installed pulp-2.8.0\n"
     ]
    }
   ],
   "source": [
    "!pip install pulp"
   ]
  },
  {
   "cell_type": "code",
   "execution_count": 22,
   "metadata": {
    "id": "cTSsfd8kfBp9"
   },
   "outputs": [],
   "source": [
    "import pandas as pd\n",
    "import pulp\n",
    "\n",
    "\n",
    "\n",
    "# Define your linear programming problem\n",
    "lp = pulp.LpProblem(\"Maximize_revenue\", pulp.LpMinimize)\n",
    "\n",
    "# Decision variables\n",
    "X = pulp.LpVariable.dicts(\"X\",\n",
    "                          [xijktp for xijktp in ijktp_list],\n",
    "                          lowBound=0, cat='Continuous')\n",
    "Y = pulp.LpVariable.dicts(\"Y\",\n",
    "                          [yitp for yitp in itp_list],\n",
    "                          lowBound=0, cat='Continuous')\n",
    "I = pulp.LpVariable.dicts(\"I\",\n",
    "                          [itp for itp in itp_list],\n",
    "                          lowBound=0, cat='Continuous')\n",
    "\n",
    "\n"
   ]
  },
  {
   "cell_type": "markdown",
   "metadata": {},
   "source": [
    "### Objective Functions"
   ]
  },
  {
   "cell_type": "code",
   "execution_count": 25,
   "metadata": {
    "id": "mp-y56uWdqMO"
   },
   "outputs": [],
   "source": [
    "customer_region = demand['customer_region'].unique()\n",
    "customer_region\n",
    "## Objective function\n",
    "lp += pulp.lpSum([revenue_over_t[p, t] *\n",
    "                  pulp.lpSum([X[xijktp] for xijktp in ijktp_list if xijktp[1] in customer_region and xijktp[-1]==p and xijktp[-2]==t])\n",
    "                  for p, t in revenue_over_t.keys()]) - \\\n",
    "      pulp.lpSum([cost_per_product[ijkpt]* X[ijkpt] for ijkpt in ijktp_list]) - \\\n",
    "      pulp.lpSum([incrementalcost_itp[itp]* Y[itp] for itp in itp_list]) -\\\n",
    "      pulp.lpSum([revenue_over_t[(p, t)]*holding_rate * I[i, t, p] for i, t, p in itp_list]), \"Maximize_revenue\"\n",
    "\n",
    "\n"
   ]
  },
  {
   "cell_type": "markdown",
   "metadata": {},
   "source": [
    "### Constraints"
   ]
  },
  {
   "cell_type": "code",
   "execution_count": 24,
   "metadata": {
    "id": "paoyB-RghTOq"
   },
   "outputs": [],
   "source": [
    "# Constraints\n",
    "for i, t, p in itp_list:\n",
    "    t_plus_one = t + 1\n",
    "\n",
    "    sum_x = pulp.lpSum([X.get((i2, j, k, tp, p2), 0) for (i2, j, k, tp, p2) in ijktp_list if i2 == i and tp == t_plus_one and p2 == p])\n",
    "\n",
    "\n",
    "    inventory_next = I.get((i, t_plus_one, p), 0)\n",
    "    inventory_current = I.get((i, t, p), 0)\n",
    "    production_current = Y.get((i, t, p), 0)\n",
    "\n",
    "    lp += inventory_next == inventory_current + production_current - sum_x"
   ]
  },
  {
   "cell_type": "code",
   "execution_count": 26,
   "metadata": {
    "id": "38KTyU2fjwH4"
   },
   "outputs": [],
   "source": [
    "# Productiion capactiy constraint - 1\n",
    "\n",
    "unique_products = set(p for (i, t, p) in processtime_itp.keys())\n",
    "\n",
    "for i, t in production_capacity_it.keys():\n",
    "    production_required = pulp.lpSum(processtime_itp.get((i, t, p), 0) * Y.get((i, p, t), 0) for p in unique_products)\n",
    "    lp += production_required <= pulp.lpSum([X.get((i2, j, k, tp, p2), 0) for (i2, j, k, tp, p2) in ijktp_list])\n",
    "\n",
    "# Production capacity constraint - 2\n",
    "\n",
    "for i, t in production_capacity_it.keys():\n",
    "    production_sum = pulp.lpSum(processtime_itp.get((i, t, p), 0) * Y.get((i, p, t), 0) for p in unique_products)\n",
    "    lp += production_sum <= production_capacity_it[(i, t)]\n",
    "\n"
   ]
  },
  {
   "cell_type": "code",
   "execution_count": 27,
   "metadata": {
    "id": "Z4uFJ1AJQS8q"
   },
   "outputs": [],
   "source": [
    "# Demand Constraint\n",
    "\n",
    "for index, row in demand.iterrows():\n",
    "    product = row['product']  # p\n",
    "    customer_region = row['customer_region']  # c\n",
    "    period = row['time_t']  # t'\n",
    "    demand_quantity = row['demand']  # d_{p,c,t'}\n",
    "\n",
    "    relevant_variables = [X[(i, j, k, p, t)] for (i, j, k, p, t) in X.keys() if j == customer_region and p == product and t <= period]\n",
    "    lp += pulp.lpSum(relevant_variables) <= demand_quantity\n"
   ]
  },
  {
   "cell_type": "code",
   "execution_count": 28,
   "metadata": {
    "id": "uqC4H7lZLkXI"
   },
   "outputs": [],
   "source": [
    "# Greenhouse Gases Constraint\n",
    "\n",
    "GHG_Lim = 10000\n",
    "ghg_emissions_total = pulp.lpSum([ghgs_per_product[(i, j, k, t, p)] * X[(i, j, k, t, p)]\n",
    "                                  for (i, j, k, t, p) in X.keys()\n",
    "                                  if (i, j, k, t, p) in ghgs_per_product])\n",
    "\n",
    "lp += ghg_emissions_total <= GHG_Lim"
   ]
  },
  {
   "cell_type": "code",
   "execution_count": 29,
   "metadata": {
    "id": "dX-WAziZNahf"
   },
   "outputs": [],
   "source": [
    "# Non-negativity constraints\n",
    "for var in Y.values():\n",
    "    lp += var >= 0\n",
    "for var in X.values():\n",
    "    lp += var >= 0\n",
    "for var in I.values():\n",
    "    lp += var >= 0"
   ]
  },
  {
   "cell_type": "code",
   "execution_count": null,
   "metadata": {
    "id": "Bx3lCp8QOiCX"
   },
   "outputs": [],
   "source": [
    "#!apt-get install -y glpk-utils"
   ]
  },
  {
   "cell_type": "code",
   "execution_count": 30,
   "metadata": {
    "colab": {
     "base_uri": "https://localhost:8080/",
     "height": 0
    },
    "id": "sBbuFOnINEnn",
    "outputId": "d0d910a6-7934-4b54-d7e8-d72cb0f1617a"
   },
   "outputs": [
    {
     "name": "stdout",
     "output_type": "stream",
     "text": [
      "Welcome to the CBC MILP Solver \n",
      "Version: 2.10.3 \n",
      "Build Date: Dec 15 2019 \n",
      "\n",
      "command line - /srv/conda/lib/python3.9/site-packages/pulp/solverdir/cbc/linux/64/cbc /tmp/4a4f5d626ef24ec4b5c3f7371df3a733-pulp.mps -timeMode elapsed -branch -printingOptions all -solution /tmp/4a4f5d626ef24ec4b5c3f7371df3a733-pulp.sol (default strategy 1)\n",
      "At line 2 NAME          MODEL\n",
      "At line 3 ROWS\n",
      "At line 200 COLUMNS\n",
      "At line 1441 RHS\n",
      "At line 1637 BOUNDS\n",
      "At line 1638 ENDATA\n",
      "Problem MODEL has 195 rows, 112 columns and 1128 elements\n",
      "Coin0008I MODEL read with 0 errors\n",
      "Option for timeMode changed from cpu to elapsed\n",
      "Presolve 0 (-195) rows, 0 (-112) columns and 0 (-1128) elements\n",
      "Empty problem - 0 rows, 0 columns and 0 elements\n",
      "Optimal - objective value -6002000\n",
      "After Postsolve, objective -6002000, infeasibilities - dual 0 (0), primal 0 (0)\n",
      "Optimal objective -6002000 - 0 iterations time 0.002, Presolve 0.00\n",
      "Option for printingOptions changed from normal to all\n",
      "Total time (CPU seconds):       0.00   (Wallclock seconds):       0.00\n",
      "\n",
      "Status: Optimal\n",
      "Objective Value: -6002000.0\n",
      "X_('F2',_'P1',_'Truck',_2.0,_'fab_1') = 2000000.0\n",
      "Y_('F2',_1,_'fab_1') = 2000000.0\n"
     ]
    }
   ],
   "source": [
    "\n",
    "lp.solve()\n",
    "print(\"Status:\", pulp.LpStatus[lp.status])\n",
    "print(\"Objective Value:\", pulp.value(lp.objective))\n",
    "\n",
    "\n",
    "for variable in lp.variables():\n",
    "    if variable.varValue > 0:\n",
    "        print(f\"{variable.name} = {variable.varValue}\")\n"
   ]
  }
 ],
 "metadata": {
  "colab": {
   "provenance": []
  },
  "kernelspec": {
   "display_name": "Python 3 (ipykernel)",
   "language": "python",
   "name": "python3"
  },
  "language_info": {
   "codemirror_mode": {
    "name": "ipython",
    "version": 3
   },
   "file_extension": ".py",
   "mimetype": "text/x-python",
   "name": "python",
   "nbconvert_exporter": "python",
   "pygments_lexer": "ipython3",
   "version": "3.9.15"
  }
 },
 "nbformat": 4,
 "nbformat_minor": 4
}
